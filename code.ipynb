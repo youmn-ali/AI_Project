{
 "cells": [
  {
   "cell_type": "code",
   "execution_count": 1,
   "id": "f51f9f73",
   "metadata": {},
   "outputs": [],
   "source": [
    "#Important packages\n",
    "\n",
    "import pandas as pd\n",
    "import numpy as np\n",
    "import heapq\n",
    "\n",
    "from sklearn.model_selection import train_test_split\n",
    "from sklearn.preprocessing import StandardScaler\n",
    "from sklearn.neural_network import MLPClassifier\n",
    "from sklearn.metrics import accuracy_score\n",
    "\n",
    "from sklearn.model_selection import train_test_split\n",
    "from sklearn.preprocessing import StandardScaler\n",
    "from sklearn.neural_network import MLPClassifier\n",
    "from sklearn.multioutput import MultiOutputClassifier\n",
    "from sklearn.metrics import accuracy_score\n",
    "\n"
   ]
  },
  {
   "cell_type": "code",
   "execution_count": 2,
   "id": "3160896a",
   "metadata": {},
   "outputs": [],
   "source": [
    "df = pd.read_csv(r\"C:\\Users\\DELL\\Desktop\\ui.csv\")"
   ]
  },
  {
   "cell_type": "code",
   "execution_count": 3,
   "id": "3eaa43c8",
   "metadata": {},
   "outputs": [
    {
     "data": {
      "text/html": [
       "<div>\n",
       "<style scoped>\n",
       "    .dataframe tbody tr th:only-of-type {\n",
       "        vertical-align: middle;\n",
       "    }\n",
       "\n",
       "    .dataframe tbody tr th {\n",
       "        vertical-align: top;\n",
       "    }\n",
       "\n",
       "    .dataframe thead th {\n",
       "        text-align: right;\n",
       "    }\n",
       "</style>\n",
       "<table border=\"1\" class=\"dataframe\">\n",
       "  <thead>\n",
       "    <tr style=\"text-align: right;\">\n",
       "      <th></th>\n",
       "      <th>Age</th>\n",
       "      <th>Gender</th>\n",
       "      <th>Weight (kg)</th>\n",
       "      <th>Height (m)</th>\n",
       "      <th>Max_BPM</th>\n",
       "      <th>Avg_BPM</th>\n",
       "      <th>Resting_BPM</th>\n",
       "      <th>Session_Duration (hours)</th>\n",
       "      <th>Calories_Burned</th>\n",
       "      <th>Workout_Type</th>\n",
       "      <th>Fat_Percentage</th>\n",
       "      <th>Water_Intake (liters)</th>\n",
       "      <th>Workout_Frequency (days/week)</th>\n",
       "      <th>Experience_Level</th>\n",
       "      <th>BMI</th>\n",
       "    </tr>\n",
       "  </thead>\n",
       "  <tbody>\n",
       "    <tr>\n",
       "      <th>0</th>\n",
       "      <td>56</td>\n",
       "      <td>Male</td>\n",
       "      <td>88.3</td>\n",
       "      <td>1.71</td>\n",
       "      <td>180</td>\n",
       "      <td>157</td>\n",
       "      <td>60</td>\n",
       "      <td>1.69</td>\n",
       "      <td>1313.0</td>\n",
       "      <td>Yoga</td>\n",
       "      <td>12.6</td>\n",
       "      <td>3.5</td>\n",
       "      <td>4</td>\n",
       "      <td>3</td>\n",
       "      <td>30.20</td>\n",
       "    </tr>\n",
       "    <tr>\n",
       "      <th>1</th>\n",
       "      <td>46</td>\n",
       "      <td>Female</td>\n",
       "      <td>74.9</td>\n",
       "      <td>1.53</td>\n",
       "      <td>179</td>\n",
       "      <td>151</td>\n",
       "      <td>66</td>\n",
       "      <td>1.30</td>\n",
       "      <td>883.0</td>\n",
       "      <td>HIIT</td>\n",
       "      <td>33.9</td>\n",
       "      <td>2.1</td>\n",
       "      <td>4</td>\n",
       "      <td>2</td>\n",
       "      <td>32.00</td>\n",
       "    </tr>\n",
       "    <tr>\n",
       "      <th>2</th>\n",
       "      <td>32</td>\n",
       "      <td>Female</td>\n",
       "      <td>68.1</td>\n",
       "      <td>1.66</td>\n",
       "      <td>167</td>\n",
       "      <td>122</td>\n",
       "      <td>54</td>\n",
       "      <td>1.11</td>\n",
       "      <td>677.0</td>\n",
       "      <td>Cardio</td>\n",
       "      <td>33.4</td>\n",
       "      <td>2.3</td>\n",
       "      <td>4</td>\n",
       "      <td>2</td>\n",
       "      <td>24.71</td>\n",
       "    </tr>\n",
       "    <tr>\n",
       "      <th>3</th>\n",
       "      <td>25</td>\n",
       "      <td>Male</td>\n",
       "      <td>53.2</td>\n",
       "      <td>1.70</td>\n",
       "      <td>190</td>\n",
       "      <td>164</td>\n",
       "      <td>56</td>\n",
       "      <td>0.59</td>\n",
       "      <td>532.0</td>\n",
       "      <td>Strength</td>\n",
       "      <td>28.8</td>\n",
       "      <td>2.1</td>\n",
       "      <td>3</td>\n",
       "      <td>1</td>\n",
       "      <td>18.41</td>\n",
       "    </tr>\n",
       "    <tr>\n",
       "      <th>4</th>\n",
       "      <td>38</td>\n",
       "      <td>Male</td>\n",
       "      <td>46.1</td>\n",
       "      <td>1.79</td>\n",
       "      <td>188</td>\n",
       "      <td>158</td>\n",
       "      <td>68</td>\n",
       "      <td>0.64</td>\n",
       "      <td>556.0</td>\n",
       "      <td>Strength</td>\n",
       "      <td>29.2</td>\n",
       "      <td>2.8</td>\n",
       "      <td>3</td>\n",
       "      <td>1</td>\n",
       "      <td>14.39</td>\n",
       "    </tr>\n",
       "  </tbody>\n",
       "</table>\n",
       "</div>"
      ],
      "text/plain": [
       "   Age  Gender  Weight (kg)  Height (m)  Max_BPM  Avg_BPM  Resting_BPM  \\\n",
       "0   56    Male         88.3        1.71      180      157           60   \n",
       "1   46  Female         74.9        1.53      179      151           66   \n",
       "2   32  Female         68.1        1.66      167      122           54   \n",
       "3   25    Male         53.2        1.70      190      164           56   \n",
       "4   38    Male         46.1        1.79      188      158           68   \n",
       "\n",
       "   Session_Duration (hours)  Calories_Burned Workout_Type  Fat_Percentage  \\\n",
       "0                      1.69           1313.0         Yoga            12.6   \n",
       "1                      1.30            883.0         HIIT            33.9   \n",
       "2                      1.11            677.0       Cardio            33.4   \n",
       "3                      0.59            532.0     Strength            28.8   \n",
       "4                      0.64            556.0     Strength            29.2   \n",
       "\n",
       "   Water_Intake (liters)  Workout_Frequency (days/week)  Experience_Level  \\\n",
       "0                    3.5                              4                 3   \n",
       "1                    2.1                              4                 2   \n",
       "2                    2.3                              4                 2   \n",
       "3                    2.1                              3                 1   \n",
       "4                    2.8                              3                 1   \n",
       "\n",
       "     BMI  \n",
       "0  30.20  \n",
       "1  32.00  \n",
       "2  24.71  \n",
       "3  18.41  \n",
       "4  14.39  "
      ]
     },
     "execution_count": 3,
     "metadata": {},
     "output_type": "execute_result"
    }
   ],
   "source": [
    "df.head()"
   ]
  },
  {
   "cell_type": "code",
   "execution_count": 4,
   "id": "cee9d4df",
   "metadata": {},
   "outputs": [
    {
     "name": "stdout",
     "output_type": "stream",
     "text": [
      "<class 'pandas.core.frame.DataFrame'>\n",
      "RangeIndex: 973 entries, 0 to 972\n",
      "Data columns (total 15 columns):\n",
      " #   Column                         Non-Null Count  Dtype  \n",
      "---  ------                         --------------  -----  \n",
      " 0   Age                            973 non-null    int64  \n",
      " 1   Gender                         973 non-null    object \n",
      " 2   Weight (kg)                    973 non-null    float64\n",
      " 3   Height (m)                     973 non-null    float64\n",
      " 4   Max_BPM                        973 non-null    int64  \n",
      " 5   Avg_BPM                        973 non-null    int64  \n",
      " 6   Resting_BPM                    973 non-null    int64  \n",
      " 7   Session_Duration (hours)       973 non-null    float64\n",
      " 8   Calories_Burned                973 non-null    float64\n",
      " 9   Workout_Type                   973 non-null    object \n",
      " 10  Fat_Percentage                 973 non-null    float64\n",
      " 11  Water_Intake (liters)          973 non-null    float64\n",
      " 12  Workout_Frequency (days/week)  973 non-null    int64  \n",
      " 13  Experience_Level               973 non-null    int64  \n",
      " 14  BMI                            973 non-null    float64\n",
      "dtypes: float64(7), int64(6), object(2)\n",
      "memory usage: 114.2+ KB\n"
     ]
    }
   ],
   "source": [
    "df.info()"
   ]
  },
  {
   "cell_type": "code",
   "execution_count": 5,
   "id": "223adbaa",
   "metadata": {},
   "outputs": [
    {
     "data": {
      "text/plain": [
       "Age                              0\n",
       "Gender                           0\n",
       "Weight (kg)                      0\n",
       "Height (m)                       0\n",
       "Max_BPM                          0\n",
       "Avg_BPM                          0\n",
       "Resting_BPM                      0\n",
       "Session_Duration (hours)         0\n",
       "Calories_Burned                  0\n",
       "Workout_Type                     0\n",
       "Fat_Percentage                   0\n",
       "Water_Intake (liters)            0\n",
       "Workout_Frequency (days/week)    0\n",
       "Experience_Level                 0\n",
       "BMI                              0\n",
       "dtype: int64"
      ]
     },
     "execution_count": 5,
     "metadata": {},
     "output_type": "execute_result"
    }
   ],
   "source": [
    "df.isnull().sum()"
   ]
  },
  {
   "cell_type": "code",
   "execution_count": 6,
   "id": "c8a02612",
   "metadata": {},
   "outputs": [
    {
     "name": "stdout",
     "output_type": "stream",
     "text": [
      "[0, 1]\n"
     ]
    }
   ],
   "source": [
    "import heapq\n",
    "# Define a simple A* search function\n",
    "\n",
    "def a_star_workout_recommendation(start_workout, experience_level, max_depth=3):\n",
    "    # A heuristic function to estimate cost (calories burned in this case)\n",
    "    def heuristic(workout):\n",
    "        # Here, we assume a simple heuristic that assigns calories burned as the 'cost'\n",
    "        avg_calories = df[df['Workout_Type'] == workout]['Calories_Burned'].mean()\n",
    "        return -avg_calories  # We want to maximize calories burned, hence the negative\n",
    "\n",
    "    # A simple structure where each workout type is linked to another based on experience\n",
    "    workout_graph = {\n",
    "        0: [1, 2],  # Strength leads to Cardio or HIIT for higher experience\n",
    "        1: [0, 3],  # Cardio could lead to Strength or Yoga\n",
    "        2: [1, 3],  # HIIT leads to Cardio or Yoga\n",
    "        3: [0, 1]   # Yoga can lead to Strength or Cardio\n",
    "    }\n",
    "\n",
    "    # Priority queue for A* (min-heap), starts with the initial workout\n",
    "    open_list = []\n",
    "    heapq.heappush(open_list, (0 + heuristic(start_workout), 0, start_workout))  # (f_cost, g_cost, current_workout)\n",
    "    \n",
    "    # To track the best path\n",
    "    came_from = {}\n",
    "    g_costs = {start_workout: 0}\n",
    "    \n",
    "    while open_list:\n",
    "        _, g_cost, current_workout = heapq.heappop(open_list)\n",
    "        \n",
    "        # If we reached the max depth, stop the search\n",
    "        if g_cost > max_depth:\n",
    "            break\n",
    "\n",
    "        # Explore the neighbors (next workouts based on experience level)\n",
    "        next_workouts = workout_graph.get(current_workout, [])\n",
    "        \n",
    "        for next_workout in next_workouts:\n",
    "            tentative_g_cost = g_cost + 1  # Cost of moving to the next workout\n",
    "\n",
    "            if next_workout not in g_costs or tentative_g_cost < g_costs[next_workout]:\n",
    "                came_from[next_workout] = current_workout\n",
    "                g_costs[next_workout] = tentative_g_cost\n",
    "                f_cost = tentative_g_cost + heuristic(next_workout)\n",
    "                heapq.heappush(open_list, (f_cost, tentative_g_cost, next_workout))\n",
    "\n",
    "    # Reconstruct the optimal path\n",
    "    optimal_path = []\n",
    "    current = next_workout\n",
    "    while current in came_from:\n",
    "        optimal_path.append(current)\n",
    "        current = came_from[current]\n",
    "    optimal_path.append(start_workout)\n",
    "    optimal_path.reverse()\n",
    "\n",
    "    return optimal_path\n",
    "\n",
    "# Example usage: A* to find optimal workouts for a user starting with Strength (0) and experience level 2 (Advanced)\n",
    "start_workout = 0  # Strength\n",
    "experience_level = 2  # Advanced\n",
    "optimal_workouts = a_star_workout_recommendation(start_workout, experience_level)\n",
    "print(optimal_workouts)\n",
    "\n"
   ]
  },
  {
   "cell_type": "code",
   "execution_count": 7,
   "id": "9e06da17",
   "metadata": {},
   "outputs": [],
   "source": [
    "# Encode 'Gender'\n",
    "df['Gender'] = df['Gender'].map({'Female': 0, 'Male': 1})\n",
    "\n",
    "#Encode 'Workout_Type'\n",
    "df['Workout_Type'] = df['Workout_Type'].map({'Strength': 0, 'Cardio': 1, 'HIIT': 2, 'Yoga': 3})\n",
    "\n",
    "\n",
    "# Fix non-numeric 'Max_BPM' and convert it to float\n",
    "df['Max_BPM'] = pd.to_numeric(df['Max_BPM'], errors='coerce')\n",
    "df['Max_BPM'] = df['Max_BPM'].fillna(df['Max_BPM'].mean())"
   ]
  },
  {
   "cell_type": "code",
   "execution_count": null,
   "id": "86d29c49",
   "metadata": {},
   "outputs": [],
   "source": []
  },
  {
   "cell_type": "code",
   "execution_count": 20,
   "id": "588bd832",
   "metadata": {},
   "outputs": [
    {
     "name": "stdout",
     "output_type": "stream",
     "text": [
      "Mean Absolute Error (MAE): 30.82523918480538\n",
      "Mean Squared Error (MSE): 1616.449677834424\n",
      "Root Mean Squared Error (RMSE): 40.20509517255772\n",
      "R-squared (R2): 0.9796841336040875\n"
     ]
    }
   ],
   "source": [
    "from sklearn.model_selection import train_test_split\n",
    "from sklearn.linear_model import LinearRegression\n",
    "from sklearn.metrics import mean_absolute_error, mean_squared_error, r2_score\n",
    "import numpy as np\n",
    "from sklearn.linear_model import Ridge, Lasso\n",
    "\n",
    "# Prepare features (X) and labels (y)\n",
    "X = df.drop(columns=[col for col in df.columns if \"Calories_Burned\" in col])\n",
    "y = df[[col for col in df.columns if \"Calories_Burned\" in col]].squeeze()\n",
    "\n",
    "# Split the data into training and testing sets\n",
    "X_train, X_test, y_train, y_test = train_test_split(X, y, test_size=0.3, random_state=42)\n",
    "\n",
    "# Train the Linear Regression model\n",
    "model = LinearRegression()\n",
    "model = Ridge(alpha=1.0) # or Lasso(alpha=0.1) Ridge(alpha=1.0)\n",
    "model.fit(X_train, y_train)\n",
    "\n",
    "\n",
    "# Make predictions\n",
    "y_pred = model.predict(X_test)\n",
    "\n",
    "# Evaluate the model\n",
    "mae = mean_absolute_error(y_test, y_pred)\n",
    "mse = mean_squared_error(y_test, y_pred)\n",
    "rmse = np.sqrt(mse)\n",
    "r2 = r2_score(y_test, y_pred)\n",
    "\n",
    "# Print evaluation metrics\n",
    "print(f\"Mean Absolute Error (MAE): {mae}\")\n",
    "print(f\"Mean Squared Error (MSE): {mse}\")\n",
    "print(f\"Root Mean Squared Error (RMSE): {rmse}\")\n",
    "print(f\"R-squared (R2): {r2}\")\n"
   ]
  },
  {
   "cell_type": "code",
   "execution_count": 21,
   "id": "46f72206",
   "metadata": {},
   "outputs": [
    {
     "name": "stdout",
     "output_type": "stream",
     "text": [
      "[(0, 912.2596959111669), (2, 922.6604217164125), (3, 904.2766863682372)]\n"
     ]
    },
    {
     "name": "stderr",
     "output_type": "stream",
     "text": [
      "C:\\ana\\Lib\\site-packages\\sklearn\\utils\\validation.py:2739: UserWarning: X does not have valid feature names, but Ridge was fitted with feature names\n",
      "  warnings.warn(\n",
      "C:\\ana\\Lib\\site-packages\\sklearn\\utils\\validation.py:2739: UserWarning: X does not have valid feature names, but Ridge was fitted with feature names\n",
      "  warnings.warn(\n",
      "C:\\ana\\Lib\\site-packages\\sklearn\\utils\\validation.py:2739: UserWarning: X does not have valid feature names, but Ridge was fitted with feature names\n",
      "  warnings.warn(\n"
     ]
    }
   ],
   "source": [
    "# Function to combine A* workout recommendations with calorie predictions\n",
    "def recommend_workout_and_calories(start_workout, experience_level):\n",
    "    # Step 1: Use A* to find optimal workouts\n",
    "    optimal_workouts = a_star_workout_recommendation(start_workout, experience_level)\n",
    "\n",
    "    # Step 2: Predict calories burned for each optimal workout\n",
    "    calorie_predictions = []\n",
    "    for workout in optimal_workouts:\n",
    "        workout_data = df[df['Workout_Type'] == workout]\n",
    "        if workout_data.empty:\n",
    "            continue\n",
    "        \n",
    "        # Get the average feature set for this workout type\n",
    "        avg_features = workout_data.mean().drop(\"Calories_Burned\")\n",
    "        avg_features = avg_features.values.reshape(1, -1)\n",
    "        \n",
    "        # Predict calories burned\n",
    "        predicted_calories = model.predict(avg_features)\n",
    "        calorie_predictions.append((workout, predicted_calories[0]))\n",
    "\n",
    "    return calorie_predictions\n",
    "\n",
    "# Example usage:\n",
    "start_workout = 0  # Strength\n",
    "experience_level = 2  # Advanced\n",
    "recommendations = recommend_workout_and_calories(start_workout, experience_level)\n",
    "print(recommendations)\n"
   ]
  },
  {
   "cell_type": "code",
   "execution_count": 22,
   "id": "4d9b1f71",
   "metadata": {},
   "outputs": [
    {
     "data": {
      "image/png": "[encoded data removed]",
      "text/plain": [
       "<Figure size 640x480 with 1 Axes>"
      ]
     },
     "metadata": {},
     "output_type": "display_data"
    }
   ],
   "source": [
    "import matplotlib.pyplot as plt\n",
    "\n",
    "# Visualization of optimal workout path and predicted calories burned\n",
    "workouts, calories = zip(*recommendations)\n",
    "\n",
    "plt.bar(workouts, calories)\n",
    "plt.xlabel('Workout Type')\n",
    "plt.ylabel('Predicted Calories Burned')\n",
    "plt.title('Predicted Calories Burned for Optimal Workouts')\n",
    "plt.show()\n"
   ]
  },
  {
   "cell_type": "code",
   "execution_count": 24,
   "id": "9ee0436a",
   "metadata": {},
   "outputs": [
    {
     "name": "stdout",
     "output_type": "stream",
     "text": [
      "Mean Absolute Error: 36.20513698630137\n"
     ]
    }
   ],
   "source": [
    "from sklearn.model_selection import train_test_split\n",
    "from sklearn.ensemble import RandomForestRegressor\n",
    "from sklearn.metrics import mean_absolute_error\n",
    "\n",
    "\n",
    "#  Prepare features and labels\n",
    "X = df.drop(columns=[col for col in df.columns if \"Calories_Burned\" in col])\n",
    "y = df[[col for col in df.columns if \"Calories_Burned\" in col]]\n",
    "\n",
    "\n",
    "\n",
    "# Split the data into training and testing sets\n",
    "X_train, X_test, y_train, y_test = train_test_split(X, y, test_size=0.3, random_state=42)\n",
    "\n",
    "# Train the model\n",
    "model = RandomForestRegressor(n_estimators=100, random_state=42)\n",
    "model.fit(X_train, y_train.values.ravel())\n",
    "\n",
    "# Make predictions and evaluate\n",
    "y_pred = model.predict(X_test)\n",
    "mae = mean_absolute_error(y_test, y_pred)\n",
    "print(f\"Mean Absolute Error: {mae}\")\n"
   ]
  },
  {
   "cell_type": "code",
   "execution_count": null,
   "id": "37e2788e",
   "metadata": {},
   "outputs": [],
   "source": []
  }
 ],
 "metadata": {
  "kernelspec": {
   "display_name": "Python 3 (ipykernel)",
   "language": "python",
   "name": "python3"
  },
  "language_info": {
   "codemirror_mode": {
    "name": "ipython",
    "version": 3
   },
   "file_extension": ".py",
   "mimetype": "text/x-python",
   "name": "python",
   "nbconvert_exporter": "python",
   "pygments_lexer": "ipython3",
   "version": "3.11.5"
  }
 },
 "nbformat": 4,
 "nbformat_minor": 5
}
